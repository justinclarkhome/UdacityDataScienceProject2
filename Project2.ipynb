{
 "cells": [
  {
   "cell_type": "code",
   "execution_count": null,
   "metadata": {},
   "outputs": [],
   "source": [
    "import sys\n",
    "import os\n",
    "import pandas as pd\n",
    "import numpy as np\n",
    "import re\n",
    "from datetime import datetime as dt\n",
    "import csv\n",
    "import sqlite3\n",
    "import nltk\n",
    "from nltk.stem import WordNetLemmatizer as wnl\n",
    "\n",
    "sys.path.append('./data')\n",
    "\n",
    "from process_data import load_data, load_categories_data, save_data, DB_TABLE_NAME\n",
    "\n",
    "nltk.download('words'); # English word corpus for filtering data\n",
    "nltk.download('wordnet')"
   ]
  },
  {
   "cell_type": "markdown",
   "metadata": {},
   "source": [
    "# Project Overview\n",
    "## ETL Pipeline: process_data.py\n",
    "In a Python script, process_data.py, write a data cleaning pipeline that:\n",
    "- Loads the messages and categories datasets\n",
    "- Merges the two datasets\n",
    "- Cleans the data\n",
    "- Stores it in a SQLite database\n",
    "\n",
    "## ML pipeline: train_classifier.py\n",
    "In a Python script, train_classifier.py, write a machine learning pipeline that:\n",
    "- Loads data from the SQLite database\n",
    "- Splits the dataset into training and test sets\n",
    "- Builds a text processing and machine learning pipeline\n",
    "- Trains and tunes a model using GridSearchCV\n",
    "- Outputs results on the test set\n",
    "- Exports the final model as a pickle file\n",
    "\n",
    "## Flask Web App\n",
    "We are providing much of the flask web app for you, but feel free to add extra features depending on your knowledge of flask, html, css and javascript. For this part, you'll need to:\n",
    "- Modify file paths for database and model as needed\n",
    "- Add data visualizations using Plotly in the web app. One example is provided for you.\n",
    "\n",
    "## Github and Code Quality\n",
    "Your project will also be graded based on the following:\n",
    "- Use of Git and Github\n",
    "- Strong documentation\n",
    "- Clean and modular code\n",
    "- Follow the [RUBRIC](https://learn.udacity.com/nanodegrees/nd025/parts/cd0018/lessons/e692c8ed-b713-464b-95ac-72d93a35b4fc/concepts/e692c8ed-b713-464b-95ac-72d93a35b4fc-project-rubric) when you work on your project to assure you meet all of the necessary criteria for developing the pipelines and web app."
   ]
  },
  {
   "cell_type": "code",
   "execution_count": null,
   "metadata": {},
   "outputs": [],
   "source": [
    "DATA_DIR = './data'\n",
    "categories_filepath = os.path.join(DATA_DIR, 'disaster_categories.csv')\n",
    "messages_filepath = os.path.join(DATA_DIR, 'disaster_messages.csv')\n",
    "database_filename = os.path.join(DATA_DIR, 'project_data.sqlite3')"
   ]
  },
  {
   "cell_type": "code",
   "execution_count": null,
   "metadata": {},
   "outputs": [],
   "source": [
    "df = load_data(messages_filepath=messages_filepath, categories_filepath=categories_filepath)"
   ]
  },
  {
   "cell_type": "code",
   "execution_count": null,
   "metadata": {},
   "outputs": [],
   "source": [
    "# def clean_data(df):\n",
    "#     pass"
   ]
  },
  {
   "cell_type": "code",
   "execution_count": null,
   "metadata": {},
   "outputs": [],
   "source": [
    "def get_english_words_in_string(s, english_words=set(nltk.corpus.words.words())):\n",
    "    all_words = [i for i in nltk.wordpunct_tokenize(s.lower()) if i.isalpha()]\n",
    "    english_words = [i for i in all_words if i in english_words]\n",
    "    if all_words:\n",
    "        ratio_of_english_words = len(set(english_words))/len(set(all_words))\n",
    "    else:\n",
    "        ratio_of_english_words = None\n",
    "    return all_words, english_words, ratio_of_english_words\n",
    "\n",
    "\n",
    "def extract_english_content_from_raw_messages(df, message_field='message_raw'):\n",
    "    tolerance = 0.35 # some messages appear to be broken English - lower tolerance helps keep them in the dataset\n",
    "\n",
    "    inspect = {} # for debugging\n",
    "\n",
    "    cleaned_english_tokens = {}\n",
    "    likely_english_messages_raw = {}\n",
    "\n",
    "    # loop over message_raw, split on commas, loop over each segment to determine which are likely to be English\n",
    "    for k, v in df[message_field].items():\n",
    "        # check if this string contains a quotation mark - if so, we know there is a 'message' and an original'\n",
    "        # we can loop over and attempt to identify which is which\n",
    "        if v.count('\"') > 0:\n",
    "            english_tokens_in_this_message = []\n",
    "            english_part_of_this_message = []\n",
    "            segments = v.split('\"')\n",
    "            for segment_raw in segments:\n",
    "                if len(segment_raw) > 0:\n",
    "                    # Tokenize the segment if it isn't empty (note it could contain just non-words).\n",
    "\n",
    "                    all_words_in_segment, english_words_in_segment, ratio_of_english_words_in_segment = get_english_words_in_string(s=segment_raw)\n",
    "\n",
    "                    # if english words are detected in this segment, measure the proportion of them\n",
    "                    if all_words_in_segment:\n",
    "                        # ratio_of_english_words_in_segment = len(set(english_words_in_segment)) / len(set(all_words_in_segment))\n",
    "\n",
    "                        # if the ratio is more thab the tolerance, consider this segment as english and add it to clean_message\n",
    "                        if ratio_of_english_words_in_segment > tolerance:\n",
    "                            english_part_of_this_message.append(segment_raw)\n",
    "                            english_tokens_in_this_message += english_words_in_segment\n",
    "                        else:\n",
    "                            if k in inspect:\n",
    "                                inspect[k].append(segment_raw)\n",
    "                            else:\n",
    "                                inspect[k] = [segment_raw]\n",
    "                if english_tokens_in_this_message:\n",
    "                    cleaned_english_tokens[k] = list(set(english_tokens_in_this_message))\n",
    "                    likely_english_messages_raw[k] = ' '.join(english_part_of_this_message) # .replace('\"', \"'\").strip()\n",
    "        elif v.count(',') > 0:\n",
    "            # If there is no quotation mark but there IS a comma, then the first part of the CSV string should be the English message.\n",
    "            # But we'll check to make sure it has more than then tolerance level of English words, as a safeguard.\n",
    "            english_part_of_this_message = v.split(',')[0]\n",
    "            all_words_in_segment, english_words_in_segment, ratio_of_english_words_in_segment = get_english_words_in_string(english_part_of_this_message)\n",
    "            if ratio_of_english_words_in_segment and ratio_of_english_words_in_segment > tolerance:\n",
    "                likely_english_messages_raw[k] = english_part_of_this_message\n",
    "            else:\n",
    "                if k in inspect:\n",
    "                    inspect[k].append(v)\n",
    "                else:\n",
    "                    inspect[k] = [v]\n",
    "        else:\n",
    "            raise ValueError('Unexpected condition!')\n",
    "        \n",
    "    answer = pd.Series(likely_english_messages_raw).to_frame('messages_english_raw')\n",
    "    # answer = df.join(pd.Series(likely_english_messages_raw).to_frame('messages_english_raw'), on='id', how='left')\n",
    "\n",
    "    return answer\n",
    "        "
   ]
  },
  {
   "cell_type": "code",
   "execution_count": null,
   "metadata": {},
   "outputs": [],
   "source": [
    "extract_english_content_from_raw_messages(df)"
   ]
  },
  {
   "cell_type": "code",
   "execution_count": null,
   "metadata": {},
   "outputs": [],
   "source": [
    "len(df)"
   ]
  },
  {
   "cell_type": "code",
   "execution_count": null,
   "metadata": {},
   "outputs": [],
   "source": []
  },
  {
   "cell_type": "code",
   "execution_count": null,
   "metadata": {},
   "outputs": [],
   "source": []
  },
  {
   "cell_type": "code",
   "execution_count": null,
   "metadata": {},
   "outputs": [],
   "source": []
  },
  {
   "cell_type": "code",
   "execution_count": null,
   "metadata": {},
   "outputs": [],
   "source": [
    "# make sure it works\n",
    "conn = sqlite3.connect(database_filename)\n",
    "\n",
    "# TODO: create a cursor object\n",
    "cur = conn.cursor()\n",
    "\n",
    "test = pd.read_sql(f'SELECT * from {DB_TABLE_NAME}', con=conn)\n",
    "conn.close()\n",
    "\n",
    "test.head()"
   ]
  },
  {
   "cell_type": "code",
   "execution_count": null,
   "metadata": {},
   "outputs": [],
   "source": []
  },
  {
   "cell_type": "markdown",
   "metadata": {},
   "source": [
    "# CRISP-DM Flow"
   ]
  },
  {
   "cell_type": "markdown",
   "metadata": {},
   "source": [
    "## Business Understanding"
   ]
  },
  {
   "cell_type": "code",
   "execution_count": null,
   "metadata": {},
   "outputs": [],
   "source": []
  },
  {
   "cell_type": "markdown",
   "metadata": {},
   "source": [
    "## Data Understanding"
   ]
  },
  {
   "cell_type": "code",
   "execution_count": null,
   "metadata": {},
   "outputs": [],
   "source": []
  },
  {
   "cell_type": "markdown",
   "metadata": {},
   "source": [
    "## Data Preparation"
   ]
  },
  {
   "cell_type": "code",
   "execution_count": null,
   "metadata": {},
   "outputs": [],
   "source": []
  },
  {
   "cell_type": "markdown",
   "metadata": {},
   "source": [
    "## Data Modeling"
   ]
  },
  {
   "cell_type": "code",
   "execution_count": null,
   "metadata": {},
   "outputs": [],
   "source": []
  },
  {
   "cell_type": "markdown",
   "metadata": {},
   "source": [
    "## Result Evaluation"
   ]
  },
  {
   "cell_type": "code",
   "execution_count": null,
   "metadata": {},
   "outputs": [],
   "source": []
  },
  {
   "cell_type": "markdown",
   "metadata": {},
   "source": [
    "## Deployment"
   ]
  },
  {
   "cell_type": "code",
   "execution_count": null,
   "metadata": {},
   "outputs": [],
   "source": []
  }
 ],
 "metadata": {
  "kernelspec": {
   "display_name": "general",
   "language": "python",
   "name": "python3"
  },
  "language_info": {
   "codemirror_mode": {
    "name": "ipython",
    "version": 3
   },
   "file_extension": ".py",
   "mimetype": "text/x-python",
   "name": "python",
   "nbconvert_exporter": "python",
   "pygments_lexer": "ipython3",
   "version": "3.13.0"
  }
 },
 "nbformat": 4,
 "nbformat_minor": 2
}
