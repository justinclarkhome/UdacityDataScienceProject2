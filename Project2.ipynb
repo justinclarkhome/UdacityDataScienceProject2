{
 "cells": [
  {
   "cell_type": "code",
   "execution_count": null,
   "metadata": {},
   "outputs": [],
   "source": [
    "import sys\n",
    "import os\n",
    "import pandas as pd\n",
    "import numpy as np\n",
    "import re\n",
    "from datetime import datetime as dt\n",
    "import csv"
   ]
  },
  {
   "cell_type": "markdown",
   "metadata": {},
   "source": [
    "# Project Overview\n",
    "## ETL Pipeline: process_data.py\n",
    "In a Python script, process_data.py, write a data cleaning pipeline that:\n",
    "- Loads the messages and categories datasets\n",
    "- Merges the two datasets\n",
    "- Cleans the data\n",
    "- Stores it in a SQLite database\n",
    "\n",
    "## ML pipeline: train_classifier.py\n",
    "In a Python script, train_classifier.py, write a machine learning pipeline that:\n",
    "- Loads data from the SQLite database\n",
    "- Splits the dataset into training and test sets\n",
    "- Builds a text processing and machine learning pipeline\n",
    "- Trains and tunes a model using GridSearchCV\n",
    "- Outputs results on the test set\n",
    "- Exports the final model as a pickle file\n",
    "\n",
    "## Flask Web App\n",
    "We are providing much of the flask web app for you, but feel free to add extra features depending on your knowledge of flask, html, css and javascript. For this part, you'll need to:\n",
    "- Modify file paths for database and model as needed\n",
    "- Add data visualizations using Plotly in the web app. One example is provided for you.\n",
    "\n",
    "## Github and Code Quality\n",
    "Your project will also be graded based on the following:\n",
    "- Use of Git and Github\n",
    "- Strong documentation\n",
    "- Clean and modular code\n",
    "- Follow the [RUBRIC](https://learn.udacity.com/nanodegrees/nd025/parts/cd0018/lessons/e692c8ed-b713-464b-95ac-72d93a35b4fc/concepts/e692c8ed-b713-464b-95ac-72d93a35b4fc-project-rubric) when you work on your project to assure you meet all of the necessary criteria for developing the pipelines and web app."
   ]
  },
  {
   "cell_type": "code",
   "execution_count": null,
   "metadata": {},
   "outputs": [],
   "source": []
  },
  {
   "cell_type": "code",
   "execution_count": null,
   "metadata": {},
   "outputs": [],
   "source": []
  },
  {
   "cell_type": "code",
   "execution_count": null,
   "metadata": {},
   "outputs": [],
   "source": [
    "DATA_DIR = './data'\n",
    "categories_filepath = os.path.join(DATA_DIR, 'disaster_categories.csv')\n",
    "messages_filepath = os.path.join(DATA_DIR, 'disaster_messages.csv')"
   ]
  },
  {
   "cell_type": "code",
   "execution_count": null,
   "metadata": {},
   "outputs": [],
   "source": [
    "def load_categories_data(categories_filepath, skip_rows=1):\n",
    "    \"\"\" Parse the CSV file containing category information.\n",
    "\n",
    "    Args:\n",
    "        categories_filepath (str): Path to CSV file containing category info.\n",
    "        skip_rows (int, optional): Number of rows to skip when parsing (e.g. for the header). Defaults to 1.\n",
    "\n",
    "    Returns:\n",
    "        _type_: _description_\n",
    "    \"\"\"\n",
    "    data = {}\n",
    "    print(f'Parsing {categories_filepath}')\n",
    "    with open(categories_filepath, 'r') as f:\n",
    "        for i, line in enumerate(f.readlines()):\n",
    "            if i > skip_rows - 1: # remember: Python indexes are 0-based\n",
    "                this_line_info = {} # holder for just this line's info\n",
    "                identifier, keyvalue = line.split(',')\n",
    "                for item in keyvalue.split(';'):\n",
    "                    k, v = item.strip().split('-')\n",
    "                    this_line_info[k] = v\n",
    "                data[identifier] = this_line_info\n",
    "    data = pd.DataFrame(data).T\n",
    "    print('... finished!')\n",
    "    return data"
   ]
  },
  {
   "cell_type": "code",
   "execution_count": null,
   "metadata": {},
   "outputs": [],
   "source": [
    "categories_data = load_categories_data(categories_filepath)"
   ]
  },
  {
   "cell_type": "code",
   "execution_count": null,
   "metadata": {},
   "outputs": [],
   "source": [
    "categories_data"
   ]
  },
  {
   "cell_type": "code",
   "execution_count": null,
   "metadata": {},
   "outputs": [],
   "source": [
    "skip_rows=1\n",
    "\n",
    "data = {}\n",
    "print(f'Parsing {messages_filepath}')\n",
    "with open(messages_filepath, 'r') as f:\n",
    "    for i, line in enumerate(f.readlines()):\n",
    "        if i > skip_rows - 1: # remember: Python indexes are 0-based\n",
    "            this_line_info = {} # holder for just this line's info\n",
    "\n",
    "            # each line has a vaguely consistent format, something like\n",
    "            # id, message (in english), original (message in original language), genre\n",
    "            # id is always at the beginning, always a number, and always followed by a comma\n",
    "            # genre is always as the end, and always preceded by a comma\n",
    "            # the rest is harder, because the original is sometimes blank (in between two commas, followed by the genre)\n",
    "            # sometimes message is surrounded in quotes, sometimes not. It LOOKs like it gets surrounded in quotes if it contains a comma.\n",
    "            # so we can try to apply a regex looking pairs of quotes with a comma in middle\n",
    "            # we can also look for two consecutive commas followed by the genre to isolate instances where the original is blank\n",
    "\n",
    "            # the idenififier is always a number, always at the beginning, and always followed by a comma\n",
    "            identifier = re.search(r'^[0-9]+,', line).group() # .replace(',', '')\n",
    "            \n",
    "            # split the string on the idenifier - it'll be at the beginning. Then isolate the second part of the split.\n",
    "            remaining = line.split(identifier)[-1]\n",
    "            \n",
    "            # the genre (last segment) is always a single word at the end of the string, preceded by a comma\n",
    "            genre = re.search(r\",[a-zA-Z]+$\", line).group()\n",
    "\n",
    "            # split the string on the genre - it'll be at the endg. Then isolate the first part of the split.\n",
    "            remaining = remaining.split(genre)[0]\n",
    "            \n",
    "            \n"
   ]
  },
  {
   "cell_type": "code",
   "execution_count": null,
   "metadata": {},
   "outputs": [],
   "source": [
    "remaining"
   ]
  },
  {
   "cell_type": "code",
   "execution_count": null,
   "metadata": {},
   "outputs": [],
   "source": [
    "line.split(r\"^'[0-9]+,\")"
   ]
  },
  {
   "cell_type": "code",
   "execution_count": null,
   "metadata": {},
   "outputs": [],
   "source": []
  },
  {
   "cell_type": "code",
   "execution_count": null,
   "metadata": {},
   "outputs": [],
   "source": []
  },
  {
   "cell_type": "markdown",
   "metadata": {},
   "source": [
    "# CRISP-DM Flow"
   ]
  },
  {
   "cell_type": "markdown",
   "metadata": {},
   "source": [
    "## Business Understanding"
   ]
  },
  {
   "cell_type": "code",
   "execution_count": null,
   "metadata": {},
   "outputs": [],
   "source": []
  },
  {
   "cell_type": "markdown",
   "metadata": {},
   "source": [
    "## Data Understanding"
   ]
  },
  {
   "cell_type": "code",
   "execution_count": null,
   "metadata": {},
   "outputs": [],
   "source": []
  },
  {
   "cell_type": "markdown",
   "metadata": {},
   "source": [
    "## Data Preparation"
   ]
  },
  {
   "cell_type": "code",
   "execution_count": null,
   "metadata": {},
   "outputs": [],
   "source": []
  },
  {
   "cell_type": "markdown",
   "metadata": {},
   "source": [
    "## Data Modeling"
   ]
  },
  {
   "cell_type": "code",
   "execution_count": null,
   "metadata": {},
   "outputs": [],
   "source": []
  },
  {
   "cell_type": "markdown",
   "metadata": {},
   "source": [
    "## Result Evaluation"
   ]
  },
  {
   "cell_type": "code",
   "execution_count": null,
   "metadata": {},
   "outputs": [],
   "source": []
  },
  {
   "cell_type": "markdown",
   "metadata": {},
   "source": [
    "## Deployment"
   ]
  },
  {
   "cell_type": "code",
   "execution_count": null,
   "metadata": {},
   "outputs": [],
   "source": []
  }
 ],
 "metadata": {
  "kernelspec": {
   "display_name": "general",
   "language": "python",
   "name": "python3"
  },
  "language_info": {
   "codemirror_mode": {
    "name": "ipython",
    "version": 3
   },
   "file_extension": ".py",
   "mimetype": "text/x-python",
   "name": "python",
   "nbconvert_exporter": "python",
   "pygments_lexer": "ipython3",
   "version": "3.13.0"
  }
 },
 "nbformat": 4,
 "nbformat_minor": 2
}
