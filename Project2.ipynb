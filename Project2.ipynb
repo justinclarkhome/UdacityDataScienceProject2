{
 "cells": [
  {
   "cell_type": "code",
   "execution_count": null,
   "metadata": {},
   "outputs": [],
   "source": [
    "import sys\n",
    "import os\n",
    "import pandas as pd\n",
    "import numpy as np\n",
    "import nltk\n",
    "from nltk.stem import WordNetLemmatizer as wnl\n",
    "from sklearn.pipeline import Pipeline\n",
    "from sklearn.feature_extraction.text import CountVectorizer, TfidfTransformer, TfidfVectorizer\n",
    "from sklearn.model_selection import train_test_split\n",
    "from nltk.tokenize import word_tokenize\n",
    "from nltk.stem import WordNetLemmatizer\n",
    "from sklearn.ensemble import RandomForestClassifier\n",
    "from sklearn.metrics import confusion_matrix\n",
    "from sklearn.metrics import accuracy_score, f1_score, precision_score\n",
    "\n",
    "sys.path.append('./data')\n",
    "sys.path.append('./models')\n",
    "\n",
    "# from train_classifier import load_data\n",
    "\n",
    "nltk.download('words'); # English word corpus for filtering data\n",
    "nltk.download('wordnet');\n",
    "nltk.download('punkt_tab');"
   ]
  },
  {
   "cell_type": "markdown",
   "metadata": {},
   "source": [
    "# Project Overview\n",
    "## ETL Pipeline: process_data.py\n",
    "In a Python script, process_data.py, write a data cleaning pipeline that:\n",
    "- Loads the messages and categories datasets\n",
    "- Merges the two datasets\n",
    "- Cleans the data\n",
    "- Stores it in a SQLite database\n",
    "\n",
    "## ML pipeline: train_classifier.py\n",
    "In a Python script, train_classifier.py, write a machine learning pipeline that:\n",
    "- Loads data from the SQLite database\n",
    "- Splits the dataset into training and test sets\n",
    "- Builds a text processing and machine learning pipeline\n",
    "- Trains and tunes a model using GridSearchCV\n",
    "- Outputs results on the test set\n",
    "- Exports the final model as a pickle file\n",
    "\n",
    "## Flask Web App\n",
    "We are providing much of the flask web app for you, but feel free to add extra features depending on your knowledge of flask, html, css and javascript. For this part, you'll need to:\n",
    "- Modify file paths for database and model as needed\n",
    "- Add data visualizations using Plotly in the web app. One example is provided for you.\n",
    "\n",
    "## Github and Code Quality\n",
    "Your project will also be graded based on the following:\n",
    "- Use of Git and Github\n",
    "- Strong documentation\n",
    "- Clean and modular code\n",
    "- Follow the [RUBRIC](https://learn.udacity.com/nanodegrees/nd025/parts/cd0018/lessons/e692c8ed-b713-464b-95ac-72d93a35b4fc/concepts/e692c8ed-b713-464b-95ac-72d93a35b4fc-project-rubric) when you work on your project to assure you meet all of the necessary criteria for developing the pipelines and web app."
   ]
  },
  {
   "cell_type": "code",
   "execution_count": null,
   "metadata": {},
   "outputs": [],
   "source": [
    "DATA_DIR = './data'\n",
    "database_filepath = os.path.join(DATA_DIR, 'DisasterResponse.db')\n",
    "messages_filepath = os.path.join(DATA_DIR, 'disaster_messages.csv')\n",
    "categories_filepath = os.path.join(DATA_DIR, 'disaster_categories.csv')"
   ]
  },
  {
   "cell_type": "markdown",
   "metadata": {},
   "source": [
    "# debug process_data.py"
   ]
  },
  {
   "cell_type": "code",
   "execution_count": null,
   "metadata": {},
   "outputs": [],
   "source": [
    "from process_data import clean_data, load_data, save_data, load_categories_data, load_messages_data"
   ]
  },
  {
   "cell_type": "code",
   "execution_count": null,
   "metadata": {},
   "outputs": [],
   "source": [
    "# m = load_messages_data(messages_filepath)\n",
    "# c = load_categories_data(categories_filepath)\n",
    "# df = m.merge(c, on='id')\n",
    "# df = pd.get_dummies(df, columns=['related', 'genre'], drop_first=True)"
   ]
  },
  {
   "cell_type": "code",
   "execution_count": null,
   "metadata": {},
   "outputs": [],
   "source": [
    "df = clean_data(load_data(messages_filepath, categories_filepath))\n",
    "save_data(df, database_filepath)"
   ]
  },
  {
   "cell_type": "markdown",
   "metadata": {},
   "source": [
    "# debug train_classifier.py"
   ]
  },
  {
   "cell_type": "code",
   "execution_count": null,
   "metadata": {},
   "outputs": [],
   "source": [
    "from train_classifier import load_data, display_results"
   ]
  },
  {
   "cell_type": "markdown",
   "metadata": {},
   "source": [
    "# train_classifier.py"
   ]
  },
  {
   "cell_type": "code",
   "execution_count": null,
   "metadata": {},
   "outputs": [],
   "source": [
    "DATA_DIR = './data'\n",
    "database_filepath = os.path.join(DATA_DIR, 'DisasterResponse.db')\n",
    "X, Y, category_names = load_data(database_filepath)\n",
    "\n",
    "# create dummies for genre and related - we can \"recover\" them later\n",
    "Y_dummies = ['related']\n",
    "X_dummies = ['genre']\n",
    "Y = pd.get_dummies(Y, columns=Y_dummies, dtype=int)\n",
    "X = pd.get_dummies(X, columns=X_dummies, dtype=int)\n",
    "\n",
    "X_train, X_test, Y_train, Y_test = train_test_split(X, Y, train_size=2/3, test_size=1/3, random_state=42)\n"
   ]
  },
  {
   "cell_type": "code",
   "execution_count": null,
   "metadata": {},
   "outputs": [],
   "source": [
    "def recover_dummies(df, dummies_in_df):\n",
    "    dummy_columns = []\n",
    "    for dummy in dummies_in_df:\n",
    "        dummy_columns += [i for i in df.columns if f'{dummy}_' in i]\n",
    "        df = pd.concat([\n",
    "            df.drop(dummy_columns, axis=1),\n",
    "            pd.from_dummies(df[dummy_columns], sep='_'),\n",
    "        ],axis=1)\n",
    "    return df\n",
    "\n",
    "# X = recover_dummies(X, X_dummies)\n",
    "# Y = recover_dummies(Y, Y_dummies)\n"
   ]
  },
  {
   "cell_type": "code",
   "execution_count": null,
   "metadata": {},
   "outputs": [],
   "source": []
  },
  {
   "cell_type": "code",
   "execution_count": null,
   "metadata": {},
   "outputs": [],
   "source": []
  },
  {
   "cell_type": "code",
   "execution_count": null,
   "metadata": {},
   "outputs": [],
   "source": []
  },
  {
   "cell_type": "code",
   "execution_count": null,
   "metadata": {},
   "outputs": [],
   "source": [
    "# text = X.message\n",
    "# def tokenize(text):\n",
    "#     pass\n",
    "# # X.message.apply(word_tokenize)"
   ]
  },
  {
   "cell_type": "code",
   "execution_count": null,
   "metadata": {},
   "outputs": [],
   "source": [
    "v = TfidfVectorizer()\n",
    "X_train = v.fit_transform(X_train.message)\n",
    "X_test = v.transform(X_test.message)"
   ]
  },
  {
   "cell_type": "code",
   "execution_count": null,
   "metadata": {},
   "outputs": [],
   "source": [
    "model = RandomForestClassifier()"
   ]
  },
  {
   "cell_type": "code",
   "execution_count": null,
   "metadata": {},
   "outputs": [],
   "source": [
    "model.fit(X_train, Y_train)"
   ]
  },
  {
   "cell_type": "code",
   "execution_count": null,
   "metadata": {},
   "outputs": [],
   "source": [
    "Y_pred = model.predict(X_test)"
   ]
  },
  {
   "cell_type": "code",
   "execution_count": null,
   "metadata": {},
   "outputs": [],
   "source": [
    "display_results(Y_test, Y_pred)"
   ]
  },
  {
   "cell_type": "code",
   "execution_count": null,
   "metadata": {},
   "outputs": [],
   "source": [
    "pipeline = Pipeline([\n",
    "    ('vectorizer', TfidfVectorizer()),\n",
    "    ('model', RandomForestClassifier())\n",
    "])"
   ]
  },
  {
   "cell_type": "code",
   "execution_count": null,
   "metadata": {},
   "outputs": [],
   "source": []
  },
  {
   "cell_type": "code",
   "execution_count": null,
   "metadata": {},
   "outputs": [],
   "source": []
  },
  {
   "cell_type": "code",
   "execution_count": null,
   "metadata": {},
   "outputs": [],
   "source": []
  },
  {
   "cell_type": "code",
   "execution_count": null,
   "metadata": {},
   "outputs": [],
   "source": []
  },
  {
   "cell_type": "code",
   "execution_count": null,
   "metadata": {},
   "outputs": [],
   "source": []
  },
  {
   "cell_type": "code",
   "execution_count": null,
   "metadata": {},
   "outputs": [],
   "source": []
  },
  {
   "cell_type": "markdown",
   "metadata": {},
   "source": [
    "# app.py"
   ]
  },
  {
   "cell_type": "code",
   "execution_count": null,
   "metadata": {},
   "outputs": [],
   "source": []
  },
  {
   "cell_type": "markdown",
   "metadata": {},
   "source": [
    "# CRISP-DM Flow\n",
    "- ALL of this should go in the README.md file at the end of the project.\n",
    "- The rubric states the README should contain a lot of info."
   ]
  },
  {
   "cell_type": "markdown",
   "metadata": {},
   "source": [
    "## Business Understanding\n",
    "- The purpose of this project is to identify an efficient way to model emergency messages to determine which are most informative for making a quick disaster response decision. This is important as resources for disaster response are limited and false positives can prevent those resources from being deployed where they are needed most."
   ]
  },
  {
   "cell_type": "code",
   "execution_count": null,
   "metadata": {},
   "outputs": [],
   "source": [
    "# int_columns = [k for k, v in df.dtypes.items() if v in [int, np.int64]]\n",
    "# df[[k for k, v in df.dtypes.items() if v in [int, np.int64]]].describe().T\n"
   ]
  },
  {
   "cell_type": "code",
   "execution_count": null,
   "metadata": {},
   "outputs": [],
   "source": []
  },
  {
   "cell_type": "code",
   "execution_count": null,
   "metadata": {},
   "outputs": [],
   "source": []
  },
  {
   "cell_type": "markdown",
   "metadata": {},
   "source": [
    "## Data Understanding\n",
    "- The dataset is raw, containing an identifier along with communication information that can contain an English 'message', a non-English 'original' messge, and a 'genre' (type of communication). This insformation is provided in CSV form.\n",
    "- The content of each row is inconsistent - for example, some of the lines contain more than 4 commas (which would cleanly correspond to the 4 expected fields), some contain consecutive commas (where one of the messages is missing), and some contain quotation marks separating the English and non-English messages.\n",
    "- There is also categorical information stored in a separate CSV, which provides some informative identifiers that are pre-associated with each message (and link by an 'id' field in each set of data).\n",
    "    - This CSV data is further subdivided into key/value pairs separated by a semicolon, e.g. 'id,key1-value1;key2-value2; ...' etc.\n",
    "    - There are 36 categeries in the file, and the rubric says these are to be used as the ***responses*** for the multi-output classification task.\n",
    "    - Note that the values in the category values are integers - mostly boolean (0 or 1) except for **related** which is ternery (0/1/2).\n",
    "        - If using a decision tree style classifier, we do not need to create dummies for the **related** variable.\n",
    "    - These categories are also NOT mutually exclusive (the cross-sectional sum of them can be greater than 1).\n",
    "\n",
    "- **load_data.py** loads the raw message and category information, first splits out the 'id' and the 'categories' key/value pairs, then splits the key/value pairs into columns of data with integer data, and joins each dataset (on 'id') and passes that joined dataframe along for cleaning in the next phase."
   ]
  },
  {
   "cell_type": "markdown",
   "metadata": {},
   "source": [
    "## Data Preparation\n",
    "- **clean_data.py** attempts to separate the Enlish and non-English components of the raw nessage, and stores the processed English-only message as a new field in the data, allowing it to be more easily processed in the machine learning pipeline.\n",
    "- It also converts the 'genre' field into a set of dummies with boolean values (n-1 categories)."
   ]
  },
  {
   "cell_type": "code",
   "execution_count": null,
   "metadata": {},
   "outputs": [],
   "source": []
  },
  {
   "cell_type": "markdown",
   "metadata": {},
   "source": [
    "## Data Modeling"
   ]
  },
  {
   "cell_type": "markdown",
   "metadata": {},
   "source": [
    "## Result Evaluation"
   ]
  },
  {
   "cell_type": "code",
   "execution_count": null,
   "metadata": {},
   "outputs": [],
   "source": []
  },
  {
   "cell_type": "markdown",
   "metadata": {},
   "source": [
    "## Deployment"
   ]
  },
  {
   "cell_type": "code",
   "execution_count": null,
   "metadata": {},
   "outputs": [],
   "source": []
  }
 ],
 "metadata": {
  "kernelspec": {
   "display_name": "general",
   "language": "python",
   "name": "python3"
  },
  "language_info": {
   "codemirror_mode": {
    "name": "ipython",
    "version": 3
   },
   "file_extension": ".py",
   "mimetype": "text/x-python",
   "name": "python",
   "nbconvert_exporter": "python",
   "pygments_lexer": "ipython3",
   "version": "3.13.0"
  }
 },
 "nbformat": 4,
 "nbformat_minor": 2
}
